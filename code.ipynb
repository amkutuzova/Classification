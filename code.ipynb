{
  "nbformat": 4,
  "nbformat_minor": 0,
  "metadata": {
    "colab": {
      "provenance": [],
      "authorship_tag": "ABX9TyN2Es6xzIA+LBwbmUUy2IAy",
      "include_colab_link": true
    },
    "kernelspec": {
      "name": "python3",
      "display_name": "Python 3"
    },
    "language_info": {
      "name": "python"
    }
  },
  "cells": [
    {
      "cell_type": "markdown",
      "metadata": {
        "id": "view-in-github",
        "colab_type": "text"
      },
      "source": [
        "<a href=\"https://colab.research.google.com/github/amkutuzova/Classification/blob/main/code.ipynb\" target=\"_parent\"><img src=\"https://colab.research.google.com/assets/colab-badge.svg\" alt=\"Open In Colab\"/></a>"
      ]
    },
    {
      "cell_type": "code",
      "execution_count": null,
      "metadata": {
        "id": "cIU95RgQvvwx"
      },
      "outputs": [],
      "source": [
        "#12.4\n",
        "from sklearn.preprocessing import LabelEncoder, StandardScaler\n",
        "from sklearn.model_selection import train_test_split\n",
        "import pandas as pd\n",
        "\n",
        "def table_preprocessing(file_name):\n",
        "    df = pd.read_csv(file_name)\n",
        "    x = df.drop(columns=['Booking_ID','booking_status'])\n",
        "    y = df['booking_status']\n",
        "    labelencoder=LabelEncoder()\n",
        "    df['type_of_meal_plan']=labelencoder.fit_transform(df['type_of_meal_plan'])\n",
        "    df['room_type_reserved']=labelencoder.fit_transform(df['room_type_reserved'])\n",
        "    df['market_segment_type']=labelencoder.fit_transform(df['market_segment_type'])\n",
        "\n",
        "    scaler = StandardScaler()\n",
        "    df_scaled = scaler.fit_transform(df)\n",
        "\n",
        "    x_train, x_test, y_train, y_test = train_test_split(x, y, test_size=0.25, random_state=42)\n",
        "    return x,y"
      ]
    },
    {
      "cell_type": "code",
      "source": [
        "#12.5\n",
        "from sklearn.model_selection import train_test_split\n",
        "from sklearn.neighbors import KNeighborsClassifier\n",
        "from sklearn.tree import DecisionTreeClassifier\n",
        "from sklearn.metrics import recall_score\n",
        "from sklearn.svm import SVC\n",
        "\n",
        "def hotel_booking_analyze(x,y):\n",
        "    x_train, x_test, y_train, y_test = train_test_split(x, y, test_size=0.75, random_state=42)\n",
        "\n",
        "    svc = SVC()\n",
        "    svc.fit(x_train, y_train)\n",
        "    y_svc_pred = svc.predict(x_test)\n",
        "\n",
        "    k_nbrs = KNeighborsClassifier(n_neighbors=5)\n",
        "    k_nbrs.fit(x_train, y_train)\n",
        "    y_knbrs_pred = k_nbrs.predict(x_test)\n",
        "\n",
        "    clf_tree = DecisionTreeClassifier()\n",
        "    clf_tree.fit(x_train, y_train)\n",
        "    y_tree_pred = clf_tree.predict(x_test)\n",
        "\n",
        "    recall_score(y_test, y_svc_pred)\n",
        "    recall_score(y_test, y_knbrs_pred)\n",
        "    recall_score(y_test, y_tree_pred)\n",
        "\n",
        "    return f'''Метод опорных векторов: {recall_score(y_test, y_svc_pred)}.\n",
        "Метод к-ближайших соседей: {recall_score(y_test, y_knbrs_pred)}.\n",
        "Деревья решений: {recall_score(y_test, y_tree_pred)}'''"
      ],
      "metadata": {
        "id": "CWBJG1AD8J5L"
      },
      "execution_count": null,
      "outputs": []
    }
  ]
}